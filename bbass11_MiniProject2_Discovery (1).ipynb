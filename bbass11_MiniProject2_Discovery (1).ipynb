{
 "cells": [
  {
   "cell_type": "code",
   "execution_count": 2,
   "metadata": {},
   "outputs": [],
   "source": [
    "import sys\n",
    "import re\n",
    "import pymongo\n",
    "import json\n",
    "import time\n",
    "import datetime\n",
    "import requests\n",
    "import numpy as np\n",
    "from bs4 import BeautifulSoup\n",
    "\n",
    "dbname = \"fdac18mp2\" #please use this database\n",
    "collname = \"glprj_bbass11\" #please modify so you store data in your collection\n",
    "# beginning page index\n",
    "begin = \"0\"\n",
    "client = pymongo.MongoClient()\n",
    "letter = \"b\"\n",
    "\n",
    "db = client[dbname]\n",
    "coll = db[collname]\n",
    "\n",
    "\n",
    "beginurl = \"https://gitlab.com/api/v4/projects?archived=false&membership=false&order_by=created_at&owned=false&page=\" + begin + \\\n",
    "    \"&per_page=99&simple=false&sort=desc&starred=false&statistics=false&with_custom_attributes=false&with_issues_enabled=false&with_merge_requests_enabled=false\"\n",
    "\n",
    "\n",
    "gleft = 10\n",
    "\n",
    "header = {'per_page': 99}\n",
    "\n",
    "# check remaining query chances for rate-limit restriction\n",
    "def wait(left):\n",
    "    global header\n",
    "    while (left < 20):\n",
    "        l = requests.get('https://gitlab.com/api/v4/projects', headers=header)\n",
    "        if (l.ok):\n",
    "            left = int(l.headers.get('RateLimit-Remaining'))\n",
    "        time .sleep(60)\n",
    "    return left\n",
    "\n",
    "# send queries and extract urls \n",
    "def get(url, coll):\n",
    "\n",
    "    global gleft\n",
    "    global header\n",
    "    global bginnum\n",
    "    gleft = wait(gleft)\n",
    "    values = []\n",
    "    size = 0\n",
    "    count = 0\n",
    "\n",
    "    try:\n",
    "        r = requests .get(url, headers=header)\n",
    "        time .sleep(0.5)\n",
    "        # got blocked\n",
    "        if r.status_code == 403:\n",
    "            return \"got blocked\", str(bginnum)\n",
    "        if (r.ok):\n",
    "\n",
    "            gleft = int(r.headers.get('RateLimit-Remaining'))\n",
    "            lll = r.headers.get('Link')\n",
    "            t = r.text\n",
    "            array = json.loads(t)\n",
    "            \n",
    "            for el in array:\n",
    "                if el['name'].lower().startswith(letter):\n",
    "                    el['site'] = \"git\"\n",
    "                    count += 1\n",
    "                    coll.insert_one(el)\n",
    "                    if count > 49:\n",
    "                        return\n",
    "                \n",
    " \n",
    "            #next page\n",
    "            while ('; rel=\"next\"' in lll):\n",
    "                gleft = int(r.headers.get('RateLimit-Remaining'))\n",
    "                gleft = wait(gleft)\n",
    "                # extract next page url\n",
    "                ll = lll.replace(';', ',').split(',')\n",
    "                url = ll[ll.index(' rel=\"next\"') -\n",
    "                         1].replace('<', '').replace('>', '').lstrip()\n",
    "             \n",
    "                try:\n",
    "                    r = requests .get(url, headers=header)\n",
    "                    if r.status_code == 403:\n",
    "                        return \"got blocked\", str(bginnum)\n",
    "                    if (r.ok):\n",
    "                        lll = r.headers.get('Link')\n",
    "                        t = r.text\n",
    "                        array1 = json.loads(t)\n",
    "                        for el in array1:\n",
    "                            if el['name'].lower().startswith(letter):\n",
    "                                el['site'] = \"git\"\n",
    "                                count += 1\n",
    "                                coll.insert_one(el)\n",
    "                                if count > 49:\n",
    "                                    return\n",
    "                    else:\n",
    "                        sys.stderr.write(\"url can not found:\\n\" + url + '\\n')\n",
    "                        return \n",
    "                except requests.exceptions.ConnectionError:\n",
    "                    sys.stderr.write('could not get ' + url + '\\n')\n",
    "\n",
    "        else:\n",
    "            sys.stderr.write(\"url can not found:\\n\" + url + '\\n')\n",
    "            return\n",
    "\n",
    "    except requests.exceptions.ConnectionError:\n",
    "        sys.stderr.write('could not get ' + url + '\\n')\n",
    "    except Exception as e:\n",
    "        sys.stderr.write(url + ';' + str(e) + '\\n')"
   ]
  },
  {
   "cell_type": "code",
   "execution_count": 22,
   "metadata": {},
   "outputs": [],
   "source": [
    "#start retrieving        \n",
    "get(beginurl,coll)"
   ]
  },
  {
   "cell_type": "code",
   "execution_count": 11,
   "metadata": {},
   "outputs": [
    {
     "name": "stdout",
     "output_type": "stream",
     "text": [
      "{'last_activity_at': '2018-10-31T18:50:57.212Z', 'site': 'git', 'default_branch': None, 'name': 'basketball', 'path': 'basketball', 'name_with_namespace': 'freedumbytes / basketball', 'id': 9154235, 'web_url': 'https://gitlab.com/freedumbytes/basketball', 'ssh_url_to_repo': 'git@gitlab.com:freedumbytes/basketball.git', 'description': '', 'created_at': '2018-10-31T18:50:57.212Z', 'tag_list': [], 'avatar_url': None, 'http_url_to_repo': 'https://gitlab.com/freedumbytes/basketball.git', 'forks_count': 0, '_id': ObjectId('5bd9f9cef318b95175425a3b'), 'namespace': {'full_path': 'freedumbytes', 'name': 'freedumbytes', 'parent_id': None, 'path': 'freedumbytes', 'kind': 'group', 'id': 1067456}, 'star_count': 0, 'readme_url': None, 'path_with_namespace': 'freedumbytes/basketball'}\n"
     ]
    }
   ],
   "source": [
    "proj_array = np.array([])\n",
    "\n",
    "\n",
    "for proj in coll.find({}):\n",
    "    if proj['name'].lower().startswith(letter):\n",
    "        projs = (proj)\n",
    "        proj_array = np.append(proj_array, projs)\n",
    "        \n",
    "print(proj_array[0])"
   ]
  },
  {
   "cell_type": "code",
   "execution_count": 12,
   "metadata": {},
   "outputs": [],
   "source": [
    "# SourceForge\n",
    "Pages = 50\n",
    "\n",
    "url = []\n",
    "\n",
    "# Collect URLs\n",
    "for i in range(1,Pages):\n",
    "    url.append(\"https://sourceforge.net/directory/os%3Awindows/?q=b&page=\" + str(i))\n",
    "    \n",
    "# Get URL responses\n",
    "response = [requests.get(link) for link in url]"
   ]
  },
  {
   "cell_type": "code",
   "execution_count": 13,
   "metadata": {},
   "outputs": [],
   "source": [
    "# Function to select only unique entries in list\n",
    "def unique(seq): \n",
    "    \n",
    "   projs_checked = []\n",
    "\n",
    "   for el in seq:\n",
    "       if el not in projs_checked:\n",
    "           projs_checked.append(el)\n",
    "   return projs_checked"
   ]
  },
  {
   "cell_type": "code",
   "execution_count": 14,
   "metadata": {},
   "outputs": [],
   "source": [
    "# Iterate through responses and extract project names\n",
    "b_proj=[]\n",
    "for resp in response:\n",
    "    \n",
    "    html_soup = BeautifulSoup(resp.text, 'html.parser')\n",
    "    soup_string = str(html_soup)\n",
    "    \n",
    "    \n",
    "    regex = \"(?<=\\/projects\\/).+?(?=\\/)\"\n",
    "    matches = re.findall(regex, soup_string)\n",
    "    b_matches = [i for i in matches if i.lower().startswith('b')]\n",
    "    b_proj.append(b_matches)"
   ]
  },
  {
   "cell_type": "code",
   "execution_count": 15,
   "metadata": {},
   "outputs": [
    {
     "name": "stdout",
     "output_type": "stream",
     "text": [
      "[['bmaxwell', 'bmaxwell', 'bmaxwell', 'bmaxwell', 'bmaxwell', 'b-e-c', 'b-e-c', 'b-e-c', 'b-e-c', 'b-e-c', 'b-i-b-l-e', 'b-i-b-l-e', 'b-i-b-l-e', 'b-i-b-l-e', 'btreeindextodbf', 'btreeindextodbf', 'btreeindextodbf', 'btreeindextodbf', 'b-gaming-for-tester', 'b-gaming-for-tester', 'b-gaming-for-tester', 'b-gaming-for-tester', 'bowtie-bio', 'bowtie-bio', 'bowtie-bio', 'bowtie-bio', 'bowtie-bio'], ['basszxtune', 'basszxtune', 'basszxtune', 'basszxtune'], ['b-basic', 'b-basic', 'b-basic', 'b-basic'], [], ['bcpl', 'bcpl', 'bcpl', 'bcpl'], ['bincmp', 'bincmp', 'bincmp', 'bincmp', 'b-ulysse-cc', 'b-ulysse-cc', 'b-ulysse-cc', 'b-ulysse-cc', 'benchmarksql2', 'benchmarksql2', 'benchmarksql2', 'benchmarksql2', 'bossa-fork', 'bossa-fork', 'bossa-fork', 'bossa-fork'], ['bliteos', 'bliteos', 'bliteos', 'bliteos', 'bgaming', 'bgaming', 'bgaming', 'bgaming'], ['bartrefiner', 'bartrefiner', 'bartrefiner', 'bartrefiner', 'b-linux', 'b-linux', 'b-linux', 'b-linux', 'bcomp', 'bcomp', 'bcomp', 'bcomp', 'blacklisted', 'blacklisted', 'blacklisted', 'blacklisted', 'blacklisted', 'blacklisted', 'blueskysim', 'blueskysim', 'blueskysim', 'blueskysim'], ['biblesimplex', 'biblesimplex', 'biblesimplex', 'biblesimplex', 'biblesimplex', 'b-mic', 'b-mic', 'b-mic', 'b-mic', 'b-gnulinux', 'b-gnulinux', 'b-gnulinux', 'b-gnulinux'], ['btff', 'btff', 'btff', 'btff', 'b-board-painting-software', 'b-board-painting-software', 'b-board-painting-software', 'b-board-painting-software', 'bprocessor', 'bprocessor', 'bprocessor', 'bprocessor', 'bprocessor', 'brainstorm-b', 'brainstorm-b', 'brainstorm-b', 'brainstorm-b'], ['brxmlio', 'brxmlio', 'brxmlio', 'brxmlio'], [], ['buscadorsemnticoyontolgico', 'buscadorsemnticoyontolgico', 'buscadorsemnticoyontolgico', 'buscadorsemnticoyontolgico', 'bookingonlinefo', 'bookingonlinefo', 'bookingonlinefo', 'bookingonlinefo', 'blogwritetools', 'blogwritetools', 'blogwritetools', 'blogwritetools', 'bingocalc', 'bingocalc', 'bingocalc', 'bingocalc'], [], ['bufferanimation', 'bufferanimation', 'bufferanimation', 'bufferanimation', 'boardprofesion', 'boardprofesion', 'boardprofesion', 'boardprofesion', 'b-plus-plus', 'b-plus-plus', 'b-plus-plus', 'b-plus-plus', 'bint', 'bint', 'bint', 'bint'], ['b-o-s-s-a', 'b-o-s-s-a', 'b-o-s-s-a', 'b-o-s-s-a', 'b-o-s-s-a', 'blizqss', 'blizqss', 'blizqss', 'blizqss', 'bouso-a', 'bouso-a', 'bouso-a', 'bouso-a', 'bouso-a'], ['bqsearch', 'bqsearch', 'bqsearch', 'bqsearch', 'b-calm', 'b-calm', 'b-calm', 'b-calm', 'borderlands10', 'borderlands10', 'borderlands10', 'borderlands10'], ['b-link', 'b-link', 'b-link', 'b-link', 'b-link', 'burakaltr', 'burakaltr', 'burakaltr', 'burakaltr', 'bsharpsw', 'bsharpsw', 'bsharpsw', 'bsharpsw', 'backupchmaurer', 'backupchmaurer', 'backupchmaurer', 'backupchmaurer'], ['blog2epub', 'blog2epub', 'blog2epub', 'blog2epub', 'btdictionary', 'btdictionary', 'btdictionary', 'btdictionary', 'bkonvert', 'bkonvert', 'bkonvert', 'bkonvert'], ['bb232sda12datal', 'bb232sda12datal', 'bb232sda12datal', 'bb232sda12datal', 'b-unittesting', 'b-unittesting', 'b-unittesting', 'b-unittesting', 'botsuit', 'botsuit', 'botsuit', 'botsuit', 'botsuit'], ['boxspline2d', 'boxspline2d', 'boxspline2d', 'boxspline2d', 'bflow', 'bflow', 'bflow', 'bflow', 'b-grabber', 'b-grabber', 'b-grabber', 'b-grabber', 'b-shade', 'b-shade', 'b-shade', 'b-shade', 'b-net', 'b-net', 'b-net', 'b-net'], ['b-zone', 'b-zone', 'b-zone', 'b-zone', 'brandywine1', 'brandywine1', 'brandywine1', 'brandywine1', 'b612', 'b612', 'b612', 'b612', 'bclient', 'bclient', 'bclient', 'bclient'], ['b-gat', 'b-gat', 'b-gat', 'b-gat', 'browser-windows', 'browser-windows', 'browser-windows', 'browser-windows', 'bdd-tree', 'bdd-tree', 'bdd-tree', 'bdd-tree', 'b-risk', 'b-risk', 'b-risk', 'b-risk', 'bplusdotnet', 'bplusdotnet', 'bplusdotnet', 'bplusdotnet', 'bplusdotnet', 'b-forms', 'b-forms', 'b-forms', 'b-forms'], ['b-improved', 'b-improved', 'b-improved', 'b-improved', 'bnews-plus', 'bnews-plus', 'bnews-plus', 'bnews-plus', 'beetv', 'beetv', 'beetv', 'beetv', 'b-frame', 'b-frame', 'b-frame', 'b-frame', 'bcache', 'bcache', 'bcache', 'bcache'], ['bscribbles', 'bscribbles', 'bscribbles', 'bscribbles', 'bscribbles', 'bsframework', 'bsframework', 'bsframework', 'bsframework', 'bsframework', 'bookmarksync&gt;BookmarkSync&lt;'], ['b-reality', 'b-reality', 'b-reality', 'b-reality', 'b-i-m', 'b-i-m', 'b-i-m', 'b-i-m', 'b-news', 'b-news', 'b-news', 'b-news', 'blazegame', 'blazegame', 'blazegame', 'blazegame', 'btreeindex', 'btreeindex', 'btreeindex', 'btreeindex'], ['bipac', 'bipac', 'bipac', 'bipac', 'bbook', 'bbook', 'bbook', 'bbook'], ['btlchat', 'btlchat', 'btlchat', 'btlchat', 'b-itineris', 'b-itineris', 'b-itineris', 'b-itineris', 'bplus-tree', 'bplus-tree', 'bplus-tree', 'bplus-tree'], ['bmi-rechner', 'bmi-rechner', 'bmi-rechner', 'bmi-rechner', 'breinsoftspread', 'breinsoftspread', 'breinsoftspread', 'breinsoftspread', 'blanddern.berlios', 'blanddern.berlios', 'blanddern.berlios', 'blanddern.berlios'], [], [], [], [], [], [], [], [], [], [], [], [], [], [], [], [], [], [], [], []]\n"
     ]
    }
   ],
   "source": [
    "print(b_proj)"
   ]
  },
  {
   "cell_type": "code",
   "execution_count": 16,
   "metadata": {},
   "outputs": [
    {
     "name": "stdout",
     "output_type": "stream",
     "text": [
      "88\n"
     ]
    }
   ],
   "source": [
    "# Make list of unique project names\n",
    "b_list = unique([item for sublist in b_proj for item in sublist])\n",
    "\n",
    "print(len(b_list))"
   ]
  },
  {
   "cell_type": "code",
   "execution_count": 17,
   "metadata": {},
   "outputs": [],
   "source": [
    "# Iterate through projects\n",
    "sf_api= \"https://sourceforge.net/rest/p/\"\n",
    "\n",
    "projects = []\n",
    "proj = []\n",
    "for proj in b_list:\n",
    "    \n",
    "    resp = requests.get(sf_api + proj)\n",
    "    if(resp.status_code == 404):\n",
    "        continue\n",
    "        \n",
    "    text = json.loads(resp.text)\n",
    "    if(text['status'] == 'active'):\n",
    "        projects.append(text)"
   ]
  },
  {
   "cell_type": "code",
   "execution_count": 18,
   "metadata": {},
   "outputs": [
    {
     "name": "stdout",
     "output_type": "stream",
     "text": [
      "{'screenshots': [{'url': 'https://sourceforge.net/p/bmaxwell/screenshot/bm1.jpg', 'caption': '3. Physical Sky Settings', 'thumbnail_url': 'https://sourceforge.net/p/bmaxwell/screenshot/bm1.jpg/thumb'}, {'url': 'https://sourceforge.net/p/bmaxwell/screenshot/maxwell_test.jpg', 'caption': '5. Rendered Image', 'thumbnail_url': 'https://sourceforge.net/p/bmaxwell/screenshot/maxwell_test.jpg/thumb'}, {'url': 'https://sourceforge.net/p/bmaxwell/screenshot/bm2.jpg', 'caption': '4. Imported Scene (Dupli Verts and Faces as Instances)', 'thumbnail_url': 'https://sourceforge.net/p/bmaxwell/screenshot/bm2.jpg/thumb'}, {'url': 'https://sourceforge.net/p/bmaxwell/screenshot/hair.jpg', 'caption': '2. Simple image fully prepared for rendering in Blender', 'thumbnail_url': 'https://sourceforge.net/p/bmaxwell/screenshot/hair.jpg/thumb'}, {'url': 'https://sourceforge.net/p/bmaxwell/screenshot/9-hair-uv-monkey1.jpg', 'caption': '1. Textured fur', 'thumbnail_url': 'https://sourceforge.net/p/bmaxwell/screenshot/9-hair-uv-monkey1.jpg/thumb'}], 'external_homepage': None, 'developers': [{'url': 'https://sourceforge.net/u/nildar/', 'username': 'nildar', 'name': 'Ildar'}], 'name': 'B-Maxwell', 'preferred_support_tool': '_url', 'shortname': 'bmaxwell', 'icon_url': None, 'private': False, 'url': 'https://sourceforge.net/p/bmaxwell/', 'moved_to_url': '', 'status': 'active', 'video_url': 'www.youtube.com/embed/LUaIrldj-5k?rel=0', '_id': '4e5b45cc1be1ce2a36000fca', 'short_description': 'B-Maxwell add-on offers seamless integration with Maxwell Render and Blender', 'categories': {'os': [{'shortname': 'linux', 'fullpath': 'Operating System :: Modern (Vendor-Supported) Desktop Operating Systems :: Linux', 'fullname': 'Linux', 'id': 201}, {'shortname': 'macosx', 'fullpath': 'Operating System :: Modern (Vendor-Supported) Desktop Operating Systems :: OS X', 'fullname': 'OS X', 'id': 309}, {'shortname': 'os_portable', 'fullpath': 'Operating System :: Grouping and Descriptive Categories :: OS Portable (Source code to work with many OS platforms)', 'fullname': 'OS Portable (Source code to work with many OS platforms)', 'id': 436}, {'shortname': 'independent', 'fullpath': 'Operating System :: Grouping and Descriptive Categories :: OS Independent (Written in an interpreted language)', 'fullname': 'OS Independent (Written in an interpreted language)', 'id': 235}, {'shortname': 'winnt', 'fullpath': 'Operating System :: Grouping and Descriptive Categories :: 32-bit MS Windows (NT/2000/XP)', 'fullname': '32-bit MS Windows (NT/2000/XP)', 'id': 219}, {'shortname': 'win64', 'fullpath': 'Operating System :: Grouping and Descriptive Categories :: 64-bit MS Windows', 'fullname': '64-bit MS Windows', 'id': 655}], 'topic': [{'shortname': '3dmodeling', 'fullpath': 'Topic :: Multimedia :: Graphics :: 3D Modeling', 'fullname': '3D Modeling', 'id': 109}, {'shortname': '3drendering', 'fullpath': 'Topic :: Multimedia :: Graphics :: 3D Rendering', 'fullname': '3D Rendering', 'id': 110}], 'language': [{'shortname': 'python', 'fullpath': 'Programming Language :: Python', 'fullname': 'Python', 'id': 178}, {'shortname': 'cpp', 'fullpath': 'Programming Language :: C++', 'fullname': 'C++', 'id': 165}], 'translation': [{'shortname': 'english', 'fullpath': 'Translations :: English', 'fullname': 'English', 'id': 275}], 'license': [{'shortname': 'gpl', 'fullpath': 'License :: OSI-Approved Open Source :: GNU General Public License version 2.0 (GPLv2)', 'fullname': 'GNU General Public License version 2.0 (GPLv2)', 'id': 15}], 'database': [], 'audience': [{'shortname': 'endusers', 'fullpath': 'Intended Audience :: by End-User Class :: End Users/Desktop', 'fullname': 'End Users/Desktop', 'id': 2}], 'developmentstatus': [{'shortname': 'beta', 'fullpath': 'Development Status :: 4 - Beta', 'fullname': '4 - Beta', 'id': 10}], 'environment': [{'shortname': 'ui_plugins', 'fullpath': 'User Interface :: Plugins', 'fullname': 'Plugins', 'id': 461}]}, 'labels': ['exporter', 'blender', 'maxwell render', 'addon'], 'socialnetworks': [{'accounturl': '', 'socialnetwork': 'Twitter'}, {'accounturl': None, 'socialnetwork': 'Facebook'}], 'creation_date': '2011-08-29', 'tools': [{'url': '/p/bmaxwell/tickets/', 'mount_label': 'Tickets', 'name': 'tickets', 'mount_point': 'tickets', 'installable': True, 'tool_label': 'Tickets', 'icons': {'24': 'images/tickets_24.png', '48': 'images/tickets_48.png', '32': 'images/tickets_32.png'}}, {'url': '/p/bmaxwell/code/', 'mount_label': 'Code', 'name': 'svn', 'mount_point': 'code', 'installable': True, 'tool_label': 'SVN', 'icons': {'24': 'images/code_24.png', '48': 'images/code_48.png', '32': 'images/code_32.png'}}, {'url': '/p/bmaxwell/wiki/', 'mount_label': 'Wiki', 'name': 'wiki', 'mount_point': 'wiki', 'installable': True, 'tool_label': 'Wiki', 'icons': {'24': 'images/wiki_24.png', '48': 'images/wiki_48.png', '32': 'images/wiki_32.png'}}, {'url': '/p/bmaxwell/files/', 'mount_label': 'Files', 'name': 'files', 'mount_point': 'files', 'installable': False, 'tool_label': 'Files', 'icons': {'24': 'images/downloads_24.png', '48': 'images/downloads_48.png', '32': 'images/downloads_32.png'}}, {'url': '/p/bmaxwell/summary/', 'mount_label': 'Summary', 'name': 'summary', 'sourceforge_group_id': 586627, 'mount_point': 'summary', 'installable': False, 'tool_label': 'Summary', 'icons': {'24': 'images/sftheme/24x24/blog_24.png', '48': 'images/sftheme/48x48/blog_48.png', '32': 'images/sftheme/32x32/blog_32.png'}}, {'url': '/p/bmaxwell/donate/', 'mount_label': 'Donate', 'name': 'link', 'mount_point': 'donate', 'installable': True, 'tool_label': 'External Link', 'icons': {'24': 'images/ext_24.png', '48': 'images/ext_48.png', '32': 'images/ext_32.png'}}, {'url': '/p/bmaxwell/support/', 'mount_label': 'Support', 'name': 'support', 'mount_point': 'support', 'installable': False, 'tool_label': 'Support', 'icons': {'24': 'images/sftheme/24x24/blog_24.png', '48': 'images/sftheme/48x48/blog_48.png', '32': 'images/sftheme/32x32/blog_32.png'}}, {'url': '/p/bmaxwell/reviews/', 'mount_label': 'Reviews', 'name': 'reviews', 'mount_point': 'reviews', 'installable': False, 'tool_label': 'Reviews', 'icons': {'24': 'images/sftheme/24x24/blog_24.png', '48': 'images/sftheme/48x48/blog_48.png', '32': 'images/sftheme/32x32/blog_32.png'}}, {'url': '/p/bmaxwell/activity/', 'mount_label': 'Activity', 'name': 'activity', 'mount_point': 'activity', 'installable': False, 'tool_label': 'Tool', 'icons': {'24': 'images/admin_24.png', '48': 'images/admin_48.png', '32': 'images/admin_32.png'}}], 'summary': 'Maxwell Render for Blender', 'preferred_support_url': 'http://blenderartists.org/forum/showthread.php?230811-Exporter-addon-for-Maxwell-Render'}\n"
     ]
    }
   ],
   "source": [
    "print(projects[0])"
   ]
  },
  {
   "cell_type": "code",
   "execution_count": 19,
   "metadata": {},
   "outputs": [],
   "source": [
    "count = 0\n",
    "\n",
    "for el in projects:\n",
    "        el['site'] = \"SF\"\n",
    "        count += 1\n",
    "        coll.insert_one(el)\n",
    "        if count > 49:\n",
    "            break"
   ]
  },
  {
   "cell_type": "code",
   "execution_count": 3,
   "metadata": {},
   "outputs": [
    {
     "name": "stdout",
     "output_type": "stream",
     "text": [
      "50\n"
     ]
    }
   ],
   "source": [
    "proj_array = np.array([])\n",
    "\n",
    "for proj in coll.find({}):\n",
    "    if proj['site'] == 'SF':\n",
    "        projs = (proj)\n",
    "        proj_array = np.append(proj_array, projs)\n",
    "        \n",
    "print(len(proj_array))"
   ]
  },
  {
   "cell_type": "code",
   "execution_count": 21,
   "metadata": {},
   "outputs": [
    {
     "ename": "IndexError",
     "evalue": "index 3000 is out of bounds for axis 0 with size 91",
     "output_type": "error",
     "traceback": [
      "\u001b[0;31m---------------------------------------------------------------------------\u001b[0m",
      "\u001b[0;31mIndexError\u001b[0m                                Traceback (most recent call last)",
      "\u001b[0;32m<ipython-input-21-b308b8fdb64f>\u001b[0m in \u001b[0;36m<module>\u001b[0;34m()\u001b[0m\n\u001b[1;32m      1\u001b[0m \u001b[0;31m# Ooops stored too much stuff :(\u001b[0m\u001b[0;34m\u001b[0m\u001b[0;34m\u001b[0m\u001b[0m\n\u001b[0;32m----> 2\u001b[0;31m \u001b[0mprint\u001b[0m\u001b[0;34m(\u001b[0m\u001b[0mproj_array\u001b[0m\u001b[0;34m[\u001b[0m\u001b[0;36m3000\u001b[0m\u001b[0;34m]\u001b[0m\u001b[0;34m)\u001b[0m\u001b[0;34m\u001b[0m\u001b[0m\n\u001b[0m",
      "\u001b[0;31mIndexError\u001b[0m: index 3000 is out of bounds for axis 0 with size 91"
     ]
    }
   ],
   "source": [
    "# Ooops stored too much stuff :(\n",
    "print(proj_array[3000])"
   ]
  }
 ],
 "metadata": {
  "kernelspec": {
   "display_name": "Python 3",
   "language": "python",
   "name": "python3"
  },
  "language_info": {
   "codemirror_mode": {
    "name": "ipython",
    "version": 3
   },
   "file_extension": ".py",
   "mimetype": "text/x-python",
   "name": "python",
   "nbconvert_exporter": "python",
   "pygments_lexer": "ipython3",
   "version": "3.5.2"
  }
 },
 "nbformat": 4,
 "nbformat_minor": 2
}
